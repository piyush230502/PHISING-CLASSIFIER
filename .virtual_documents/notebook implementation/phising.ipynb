import pandas as pd
import matplotlib.pyplot as plot
import seaborn as sns


data = pd.read_csv("phising_08012020_120000.csv")
data


data.info()



data.describe()


data.isna().sum()


plot.figure(figsize=(15,50), facecolor='white')
plotnumber =1

for column in data.drop(['Result'],axis=1):
    ax = plot.subplot(12,3,plotnumber)
    sns.countplot(data[column])
    plot.xlabel(column,fontsize=10)
    plotnumber+=1
plot.show()


sns.countplot(data['Result'])
